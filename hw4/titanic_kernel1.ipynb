{
 "cells": [
  {
   "cell_type": "code",
   "execution_count": null,
   "metadata": {
    "_cell_guid": "cfdaacbc-23a3-423d-8d4d-120939ac7383",
    "_uuid": "123bbe4ab2ef45e1fbc4086e4bbcbf0145250dc3"
   },
   "outputs": [],
   "source": [
    "# Imports\n",
    "\n",
    "import pandas as pd\n",
    "from pandas import Series,DataFrame\n",
    "import numpy as np\n",
    "\n",
    "# machine learning\n",
    "from sklearn.linear_model import LogisticRegression\n",
    "from sklearn.svm import SVC, LinearSVC\n",
    "from sklearn.ensemble import RandomForestClassifier\n",
    "from sklearn.neighbors import KNeighborsClassifier\n",
    "\n",
    "from sklearn.model_selection import cross_val_score\n",
    "from sklearn.model_selection import cross_val_predict\n",
    "from sklearn.metrics import confusion_matrix"
   ]
  },
  {
   "cell_type": "code",
   "execution_count": null,
   "metadata": {
    "_cell_guid": "3ab4c525-a5cb-4183-9468-c1dd005c4c78",
    "_uuid": "f065df4e85301d3d692fc5a94d81b5a4dc80db08"
   },
   "outputs": [],
   "source": [
    "# get titanic & test csv files as a DataFrame\n",
    "X_train = pd.read_csv(\"./titanic_train.csv\")\n",
    "y_train = X_train.pop(\"Survived\")\n",
    "\n",
    "X_test_orig = pd.read_csv(\"./titanic_test.csv\")"
   ]
  },
  {
   "cell_type": "code",
   "execution_count": null,
   "metadata": {},
   "outputs": [],
   "source": [
    "X_train.head()"
   ]
  },
  {
   "cell_type": "code",
   "execution_count": null,
   "metadata": {},
   "outputs": [],
   "source": [
    "y_train.head()"
   ]
  },
  {
   "cell_type": "code",
   "execution_count": null,
   "metadata": {
    "_cell_guid": "7faffa7c-9776-43fb-9c01-786630f237ab",
    "_uuid": "f89dab12055d5658b3d4b40f3825181be751d144"
   },
   "outputs": [],
   "source": [
    "# drop unnecessary columns, these columns won't be useful in analysis and prediction\n",
    "X_train = X_train.drop(['PassengerId','Name','Ticket'], axis=1)\n",
    "X_test = X_test_orig.drop(['PassengerId','Name','Ticket'], axis=1)\n",
    "\n",
    "# preview the data\n",
    "X_train.head()"
   ]
  },
  {
   "cell_type": "code",
   "execution_count": null,
   "metadata": {},
   "outputs": [],
   "source": [
    "# only get the numeric variables\n",
    "numeric_variables = list(X_train.dtypes[X_train.dtypes != \"object\"].index)\n",
    "X_train = X_train[numeric_variables]\n",
    "\n",
    "numeric_variables = list(X_test.dtypes[X_test.dtypes != \"object\"].index)\n",
    "X_test = X_test[numeric_variables]\n",
    "\n",
    "X_train.head()"
   ]
  },
  {
   "cell_type": "code",
   "execution_count": null,
   "metadata": {},
   "outputs": [],
   "source": [
    "X_train.isnull().sum()"
   ]
  },
  {
   "cell_type": "code",
   "execution_count": null,
   "metadata": {},
   "outputs": [],
   "source": [
    "X_train[\"Age\"].fillna(X_train.Age.mean(), inplace=True)\n",
    "X_train.isnull().sum()"
   ]
  },
  {
   "cell_type": "code",
   "execution_count": null,
   "metadata": {},
   "outputs": [],
   "source": [
    "X_test[\"Age\"].fillna(X_test.Age.mean(), inplace=True)\n",
    "X_test[\"Fare\"].fillna(X_test.Fare.mean(), inplace=True)\n",
    "X_test.isnull().sum()"
   ]
  },
  {
   "cell_type": "code",
   "execution_count": null,
   "metadata": {},
   "outputs": [],
   "source": [
    "from sklearn.linear_model import LogisticRegression\n",
    "logit_clf = LogisticRegression(solver = 'lbfgs') # the default solver='liblinear' is very slow\n",
    "logit_clf.fit(X_train, y_train)\n",
    "y_pred = logit_clf.predict(X_test)"
   ]
  },
  {
   "cell_type": "code",
   "execution_count": null,
   "metadata": {},
   "outputs": [],
   "source": [
    "LogisticRegression_scores = cross_val_score(logit_clf, X_train, y_train, cv=3, scoring=\"accuracy\")\n",
    "LogisticRegression_scores.mean()"
   ]
  },
  {
   "cell_type": "code",
   "execution_count": null,
   "metadata": {},
   "outputs": [],
   "source": [
    "from sklearn.svm import SVC\n",
    "svm_clf = SVC()\n",
    "svm_clf.fit(X_train, y_train)\n",
    "y_pred = svm_clf.predict(X_test)"
   ]
  },
  {
   "cell_type": "code",
   "execution_count": null,
   "metadata": {},
   "outputs": [],
   "source": [
    "SVC_scores = cross_val_score(svm_clf, X_train, y_train, cv=5, scoring=\"accuracy\")\n",
    "SVC_scores.mean()"
   ]
  },
  {
   "cell_type": "markdown",
   "metadata": {},
   "source": [
    "# As per the output from both the classifier LogisticRegressor and SVC, LogisticRegressor is more efficient. "
   ]
  }
 ],
 "metadata": {
  "_change_revision": 0,
  "_is_fork": false,
  "kernelspec": {
   "display_name": "Python 3",
   "language": "python",
   "name": "python3"
  },
  "language_info": {
   "codemirror_mode": {
    "name": "ipython",
    "version": 3
   },
   "file_extension": ".py",
   "mimetype": "text/x-python",
   "name": "python",
   "nbconvert_exporter": "python",
   "pygments_lexer": "ipython3",
   "version": "3.6.6"
  }
 },
 "nbformat": 4,
 "nbformat_minor": 1
}
